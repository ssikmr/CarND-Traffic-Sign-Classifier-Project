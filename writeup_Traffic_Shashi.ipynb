{
 "cells": [
  {
   "cell_type": "markdown",
   "metadata": {},
   "source": [
    "# **Traffic Sign Recognition** \n",
    "\n",
    "**Build a Traffic Sign Recognition Project**\n",
    "\n",
    "The goals / steps of this project are the following:\n",
    "* Load the data set (see below for links to the project data set)\n",
    "* Explore, summarize and visualize the data set\n",
    "* Design, train and test a model architecture\n",
    "* Use the model to make predictions on new images\n",
    "* Analyze the softmax probabilities of the new images\n",
    "* Summarize the results with a written report\n"
   ]
  },
  {
   "cell_type": "markdown",
   "metadata": {},
   "source": [
    "## Rubric Points\n",
    "### Here I will consider the [rubric points](https://review.udacity.com/#!/rubrics/481/view) individually and describe how I addressed each point in my implementation.  \n"
   ]
  },
  {
   "cell_type": "markdown",
   "metadata": {},
   "source": [
    "### Data Set Summary & Exploration\n",
    "\n",
    "I used the numpy library to calculate summary statistics of the traffic\n",
    "signs data set:\n",
    "\n",
    "* The size of training set is 34799\n",
    "* The size of the validation set is 4410\n",
    "* The size of test set is 12630\n",
    "* The shape of a traffic sign image is (32, 32, 3)\n",
    "* The number of unique classes/labels in the data set is 43\n",
    "\n",
    "Here is an exploratory visualization of the data set. It is a bar chart showing how the training data is distributed.\n",
    "\n",
    "![image1](./visu.jpg)\n"
   ]
  },
  {
   "cell_type": "markdown",
   "metadata": {},
   "source": [
    "### Design and Test a Model Architecture\n",
    "\n",
    "#### 1. Preprocessing\n",
    "As a first step, I decided to convert the images to grayscale because German traffic sign has very less to do with RGB colors of the sign. To make it simple and extract only useful information rather than color specification just converted it to gray.\n",
    "I used gray = 0.2989 * r + 0.5870 * g + 0.1140 * b as a formula.\n",
    "\n",
    "Here is an example of a traffic sign image before and after grayscaling.\n",
    "\n",
    "![alt text](./gray1.jpg)\n",
    "![alt text](./rgb1.jpg)\n",
    "\n",
    "As a last step, I normalized the image data because normalizing data from (0,255) to (-0.5,0.5) have zero mean and small standard deviation, so it is supposed to perform well\n",
    "\n",
    "I decided to generate additional data for levels having less data than 500 but as my validation accuracy was good enough I proceeded without that.\n",
    "\n"
   ]
  },
  {
   "cell_type": "markdown",
   "metadata": {},
   "source": [
    "#### 2. NN Model\n",
    "\n",
    "\n",
    "My final model consists of the following layers:\n",
    "\n",
    "| Layer         \t\t|     Description\t        \t\t\t\t\t| \n",
    "|:---------------------:|:---------------------------------------------:| \n",
    "| Input         \t\t| 32x32x1 Grayscale image   \t\t\t\t\t| \n",
    "| Convolution 5x5     \t| 1x1 stride, same padding, outputs 28x28x6 \t|\n",
    "| RELU\t\t\t\t\t| Activation function\t\t\t\t\t\t\t|\n",
    "| Max pooling\t      \t| 2x2 stride,  outputs 14x14x6 \t\t\t\t    |\n",
    "| Convolution 5x5\t    | 1x1 stride, same padding, outputs 10x10x16    |\n",
    "| RELU\t\t\t\t\t| Activation function\t\t\t\t\t\t\t|\n",
    "| Max pooling\t        | 2x2 stride,  outputs 5x5x16 \t\t\t\t    |\n",
    "| Fully connected\t\t| Input 400x1 output 120x1       \t\t\t\t|\n",
    "| Fully connected       | Input 120x1 output 84x1                       |\n",
    "| Fully connected       | Input 84x1 output 43x1                        |\n",
    "| Softmax\t\t\t\t| Input 43x1 output 43x1        \t\t\t\t|\n",
    "\n",
    " \n",
    "\n"
   ]
  },
  {
   "cell_type": "markdown",
   "metadata": {},
   "source": [
    "#### 3. Training the model\n",
    "\n",
    "To train the model, I used an Adam Optimizer as it converges fast using varying learning rate provided with initial learning rate.\n",
    "\n",
    "Tried different hyper parameters to train the model but these were the most suitable for my case that meets the desired validation accuracy and test accuracy.\n",
    "\n",
    "    Batch Size : 128\n",
    "    Epoch : 35\n",
    "    Learning rate : 0.0009\n"
   ]
  },
  {
   "cell_type": "markdown",
   "metadata": {},
   "source": [
    "#### 4. Performance Tuning\n",
    "\n",
    "My final model results were:\n",
    "* training set accuracy of 0.995\n",
    "* validation set accuracy of 0.955 \n",
    "* test set accuracy of 0.933\n",
    "\n",
    "We have choosen LeNET architecture as its best sutable for classification of images.\n",
    "* Initial architecture was baised for some images.\n",
    "* so we have included dropout to remove overfitting from our model.\n",
    "* We have also used max-pooling, and the widely used ReLU activation function\n",
    "* By tuning hyper-parameters like Epochs,learning rate and batch size validation and test accuracy improved to 0.952 and 0.941 respectively which is good enough.\n",
    " \n"
   ]
  },
  {
   "cell_type": "markdown",
   "metadata": {},
   "source": [
    "#### 1. Test dataset\n",
    "\n",
    "The five German traffic signs that I used to test the model are as follows (source:internet):\n",
    "\n",
    "![image1](./30km.jpg) ![image2](./50km.jpg) ![image3](./no_passing.jpg) \n",
    "![image4](./roundabout.jpg) ![image5](./slipper.jpg)\n",
    "\n",
    "The first image is little distorted so I guess it will be hard to classify correctly."
   ]
  },
  {
   "cell_type": "markdown",
   "metadata": {},
   "source": [
    "#### 2. Predictions\n",
    "\n",
    "Here are the results of the prediction:\n",
    "\n",
    "| Image\t\t\t                        |     Prediction\t        \t\t\t\t\t| \n",
    "|:-------------------------------------:|:---------------------------------------------:| \n",
    "| Speed limit (30km/h)                  | Speed limit (30km/h)  \t\t\t\t\t\t| \n",
    "| Speed limit (50km/h)    \t\t\t    | Priority road\t\t\t\t\t\t        \t|\n",
    "| No passing\t\t\t\t\t        | No passing\t\t\t\t\t\t\t\t\t|\n",
    "| Roundabout mandatory        \t\t    | Roundabout mandatory \t\t\t\t\t \t\t|\n",
    "| Slippery road                      \t| Beware of ice/snow\t\t                \t|\n",
    "\n",
    "\n",
    "The model was able to correctly guess 4 of the 5 traffic signs, which gives an accuracy of 80%. This looks good for new images that its been not trained on. Again deep neural network is like a black-box, so not sure why it was not able to predict the second image right."
   ]
  },
  {
   "cell_type": "markdown",
   "metadata": {},
   "source": [
    "#### 3. Image wise softmax probablity\n",
    "\n",
    "The code for making predictions on my final model is located in the 29th cell of the Ipython notebook.\n",
    "\n",
    "\n",
    "For the first image, the model is relatively sure that this is a Speed limit (30km/h) sign (with probability of 0.99). The top five soft max probabilities were\n",
    "\n",
    "| Probability         \t|     Prediction\t        \t\t\t\t\t| \n",
    "|:---------------------:|:---------------------------------------------:| \n",
    "| .99         \t\t\t| Speed limit (30km/h)                          | \n",
    "| .01     \t\t\t\t| Speed limit (20km/h) \t\t\t\t\t\t\t|\n",
    "| .00\t\t\t\t\t| Speed limit (50km/h)\t\t\t        \t\t|\n",
    "| .00\t      \t\t\t| Go straight or left\t\t\t\t\t \t    |\n",
    "| .00\t\t\t\t    | Roundabout mandatory      \t\t\t\t\t|\n",
    "\n",
    "\n",
    "For the second image, the model is relatively sure that this is a Priority road sign (with probability of 0.69), this somehow predicts it wrong. Observable, the confidence of predicting (i.e incorrect) is low. The top five soft max probabilities were\n",
    "\n",
    "| Probability         \t|     Prediction\t        \t\t\t\t\t| \n",
    "|:---------------------:|:---------------------------------------------:| \n",
    "| .69         \t\t\t| Priority road                                 | \n",
    "| .14     \t\t\t\t| Roundabout mandatory \t\t\t\t\t\t\t|\n",
    "| .11\t\t\t\t\t| No entry\t\t\t        \t\t\t     \t|\n",
    "| .02\t      \t\t\t| No passing\t\t\t\t\t \t            |\n",
    "| .00\t\t\t\t    | Keep right      \t\t\t\t             \t|\n",
    "\n",
    "\n",
    "\n",
    "For the third image, the model is relatively sure that this is a No passing (probability of 1.0). The top five soft max probabilities were\n",
    "\n",
    "| Probability         \t|     Prediction\t        \t\t\t\t\t| \n",
    "|:---------------------:|:---------------------------------------------:| \n",
    "| 1.0         \t\t\t| No passing      \t\t\t\t\t\t\t\t| \n",
    "| .00     \t\t\t\t| No passing for vehicles over 3.5 metric tons\t|\n",
    "| .00\t\t\t\t\t| End of no passing\t\t\t\t\t\t\t    |\n",
    "| .00\t      \t\t\t| Vehicles over 3.5 metric tons prohibited\t\t|\n",
    "| .00\t\t\t\t    | Slippery road                                 |\n",
    "\n",
    "For the fourth image, the model is relatively sure that this is a Roundabout mandatory sign (probability of 0.97). The top five soft max probabilities were\n",
    "\n",
    "| Probability         \t|     Prediction\t        \t\t\t\t\t| \n",
    "|:---------------------:|:---------------------------------------------:| \n",
    "| .97         \t\t\t| Roundabout mandatory      \t\t\t\t\t| \n",
    "| .02     \t\t\t\t| End of no passing \t\t                    |\n",
    "| .00\t\t\t\t\t| Speed limit (20km/h)\t\t\t\t\t\t\t|\n",
    "| .00\t      \t\t\t| Vehicles over 3.5 metric tons prohibited\t    |\n",
    "| .00\t\t\t\t    | End of all speed and passing limits      \t\t|\n",
    "\n",
    "\n",
    "For the last image, the model is relatively sure that this is a Slippery road sign (probability of 1.0). Also, other top_probablility predcitions was very similar signs. The top five soft max probabilities were\n",
    "\n",
    "| Probability         \t|     Prediction\t        \t\t\t\t\t| \n",
    "|:---------------------:|:---------------------------------------------:| \n",
    "| 1.0         \t\t\t| Slippery road      \t                        | \n",
    "| .00     \t\t\t\t| Right-of-way at the next intersection \t\t|\n",
    "| .00\t\t\t\t\t| Beware of ice/snow\t\t\t\t\t        |\n",
    "| .00\t      \t\t\t| Dangerous curve to the right\t\t\t\t\t|\n",
    "| .00\t\t\t\t    | No passing for vehicles over 3.5 metric tons  |"
   ]
  },
  {
   "cell_type": "code",
   "execution_count": null,
   "metadata": {
    "collapsed": true
   },
   "outputs": [],
   "source": []
  }
 ],
 "metadata": {
  "anaconda-cloud": {},
  "kernelspec": {
   "display_name": "Python [conda env:carnd-term1]",
   "language": "python",
   "name": "conda-env-carnd-term1-py"
  },
  "language_info": {
   "codemirror_mode": {
    "name": "ipython",
    "version": 3
   },
   "file_extension": ".py",
   "mimetype": "text/x-python",
   "name": "python",
   "nbconvert_exporter": "python",
   "pygments_lexer": "ipython3",
   "version": "3.5.2"
  }
 },
 "nbformat": 4,
 "nbformat_minor": 2
}
