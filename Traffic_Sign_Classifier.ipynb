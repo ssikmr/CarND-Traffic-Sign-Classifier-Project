{
 "cells": [
  {
   "cell_type": "markdown",
   "metadata": {},
   "source": [
    "# Self-Driving Car Engineer Nanodegree\n",
    "\n",
    "## Deep Learning\n",
    "\n",
    "## Project: Build a Traffic Sign Recognition Classifier\n",
    "\n",
    "In this notebook, a template is provided for you to implement your functionality in stages, which is required to successfully complete this project. If additional code is required that cannot be included in the notebook, be sure that the Python code is successfully imported and included in your submission if necessary. \n",
    "\n",
    "> **Note**: Once you have completed all of the code implementations, you need to finalize your work by exporting the iPython Notebook as an HTML document. Before exporting the notebook to html, all of the code cells need to have been run so that reviewers can see the final implementation and output. You can then export the notebook by using the menu above and navigating to  \\n\",\n",
    "    \"**File -> Download as -> HTML (.html)**. Include the finished document along with this notebook as your submission. \n",
    "\n",
    "In addition to implementing code, there is a writeup to complete. The writeup should be completed in a separate file, which can be either a markdown file or a pdf document. There is a [write up template](https://github.com/udacity/CarND-Traffic-Sign-Classifier-Project/blob/master/writeup_template.md) that can be used to guide the writing process. Completing the code template and writeup template will cover all of the [rubric points](https://review.udacity.com/#!/rubrics/481/view) for this project.\n",
    "\n",
    "The [rubric](https://review.udacity.com/#!/rubrics/481/view) contains \"Stand Out Suggestions\" for enhancing the project beyond the minimum requirements. The stand out suggestions are optional. If you decide to pursue the \"stand out suggestions\", you can include the code in this Ipython notebook and also discuss the results in the writeup file.\n",
    "\n",
    "\n",
    ">**Note:** Code and Markdown cells can be executed using the **Shift + Enter** keyboard shortcut. In addition, Markdown cells can be edited by typically double-clicking the cell to enter edit mode."
   ]
  },
  {
   "cell_type": "markdown",
   "metadata": {},
   "source": [
    "---\n",
    "## Step 0: Load The Data"
   ]
  },
  {
   "cell_type": "code",
   "execution_count": 1,
   "metadata": {
    "collapsed": false
   },
   "outputs": [
    {
     "name": "stdout",
     "output_type": "stream",
     "text": [
      "Done\n"
     ]
    }
   ],
   "source": [
    "# Load pickled data\n",
    "import pickle\n",
    "\n",
    "# TODO: Fill this in based on where you saved the training and testing data\n",
    "\n",
    "training_file = \"./train.p\"\n",
    "validation_file= \"./valid.p\"\n",
    "testing_file = \"./test.p\"\n",
    "\n",
    "with open(training_file, mode='rb') as f:\n",
    "    train = pickle.load(f)\n",
    "with open(validation_file, mode='rb') as f:\n",
    "    valid = pickle.load(f)\n",
    "with open(testing_file, mode='rb') as f:\n",
    "    test = pickle.load(f)\n",
    "    \n",
    "X_train, y_train = train['features'], train['labels']\n",
    "X_valid, y_valid = valid['features'], valid['labels']\n",
    "X_test, y_test = test['features'], test['labels']\n",
    "print(\"Done\")\n"
   ]
  },
  {
   "cell_type": "code",
   "execution_count": 2,
   "metadata": {
    "collapsed": false
   },
   "outputs": [
    {
     "name": "stdout",
     "output_type": "stream",
     "text": [
      "RGB Dimension  (34799, 32, 32, 3)\n",
      "grayscale dimensions  (34799, 32, 32, 1)\n"
     ]
    },
    {
     "data": {
      "image/png": "[encoded data removed]",
      "text/plain": [
       "<matplotlib.figure.Figure at 0x7f4e753cc400>"
      ]
     },
     "metadata": {},
     "output_type": "display_data"
    }
   ],
   "source": [
    "import cv2\n",
    "import numpy as np\n",
    "import matplotlib.pyplot as plt\n",
    "# Visualizations will be shown in the notebook.\n",
    "%matplotlib inline\n",
    "\n",
    "def rgb2gray(rgb):\n",
    "\n",
    "    r, g, b = rgb[:,:,:,0], rgb[:,:,:,1], rgb[:,:,:,2]\n",
    "    gray = 0.2989 * r + 0.5870 * g + 0.1140 * b\n",
    "\n",
    "    return gray\n",
    "#backup\n",
    "X_train_bp = np.copy(X_train)\n",
    "X_valid_bp = np.copy(X_valid)\n",
    "X_test_bp = np.copy(X_test)\n",
    "\n",
    "print(\"RGB Dimension \", X_train_bp.shape)\n",
    "# RGB to GRAY \n",
    "X_train_gr = rgb2gray( X_train_bp )\n",
    "X_train= rgb2gray( X_train_bp ).reshape((-1,32,32,1))\n",
    "X_valid= rgb2gray( X_valid_bp ).reshape((-1,32,32,1))\n",
    "X_test= rgb2gray( X_test_bp ).reshape((-1,32,32,1))\n",
    "print(\"grayscale dimensions \", X_train.shape)\n",
    "#plt.imshow(X_train_gray[0],cmap='gray')\n",
    "plt.imshow(X_train_gr[0],cmap = 'gray')\n",
    "plt.savefig(\"./gray1.jpg\")\n",
    "plt.imshow(X_train_bp[0])\n",
    "plt.savefig(\"./rgb1.jpg\")\n"
   ]
  },
  {
   "cell_type": "markdown",
   "metadata": {},
   "source": [
    "---\n",
    "\n",
    "## Step 1: Dataset Summary & Exploration\n",
    "\n",
    "The pickled data is a dictionary with 4 key/value pairs:\n",
    "\n",
    "- `'features'` is a 4D array containing raw pixel data of the traffic sign images, (num examples, width, height, channels).\n",
    "- `'labels'` is a 1D array containing the label/class id of the traffic sign. The file `signnames.csv` contains id -> name mappings for each id.\n",
    "- `'sizes'` is a list containing tuples, (width, height) representing the original width and height the image.\n",
    "- `'coords'` is a list containing tuples, (x1, y1, x2, y2) representing coordinates of a bounding box around the sign in the image. **THESE COORDINATES ASSUME THE ORIGINAL IMAGE. THE PICKLED DATA CONTAINS RESIZED VERSIONS (32 by 32) OF THESE IMAGES**\n",
    "\n",
    "Complete the basic data summary below. Use python, numpy and/or pandas methods to calculate the data summary rather than hard coding the results. For example, the [pandas shape method](http://pandas.pydata.org/pandas-docs/stable/generated/pandas.DataFrame.shape.html) might be useful for calculating some of the summary results. "
   ]
  },
  {
   "cell_type": "markdown",
   "metadata": {},
   "source": [
    "### Provide a Basic Summary of the Data Set Using Python, Numpy and/or Pandas"
   ]
  },
  {
   "cell_type": "code",
   "execution_count": 3,
   "metadata": {
    "collapsed": false
   },
   "outputs": [
    {
     "name": "stdout",
     "output_type": "stream",
     "text": [
      "Number of training examples = 34799\n",
      "Number of validation examples = 4410\n",
      "Number of testing examples = 12630\n",
      "Image data shape = (32, 32, 1)\n",
      "Number of classes = 43\n"
     ]
    }
   ],
   "source": [
    "### Replace each question mark with the appropriate value. \n",
    "### Use python, pandas or numpy methods rather than hard coding the results\n",
    "import numpy as np\n",
    "# TODO: Number of training examples\n",
    "n_train = X_train.shape[0]\n",
    "\n",
    "# TODO: Number of validation examples\n",
    "n_validation = X_valid.shape[0]\n",
    "\n",
    "# TODO: Number of testing examples.\n",
    "n_test = X_test.shape[0]\n",
    "\n",
    "# TODO: What's the shape of an traffic sign image?\n",
    "image_shape = X_train[0].shape\n",
    "\n",
    "# TODO: How many unique classes/labels there are in the dataset.\n",
    "\n",
    "n_classes = len(np.unique(y_train))\n",
    "\n",
    "print(\"Number of training examples =\", n_train)\n",
    "print(\"Number of validation examples =\", n_validation)\n",
    "print(\"Number of testing examples =\", n_test)\n",
    "print(\"Image data shape =\", image_shape)\n",
    "print(\"Number of classes =\", n_classes)"
   ]
  },
  {
   "cell_type": "markdown",
   "metadata": {},
   "source": [
    "### Include an exploratory visualization of the dataset"
   ]
  },
  {
   "cell_type": "markdown",
   "metadata": {},
   "source": [
    "Visualize the German Traffic Signs Dataset using the pickled file(s). This is open ended, suggestions include: plotting traffic sign images, plotting the count of each sign, etc. \n",
    "\n",
    "The [Matplotlib](http://matplotlib.org/) [examples](http://matplotlib.org/examples/index.html) and [gallery](http://matplotlib.org/gallery.html) pages are a great resource for doing visualizations in Python.\n",
    "\n",
    "**NOTE:** It's recommended you start with something simple first. If you wish to do more, come back to it after you've completed the rest of the sections. It can be interesting to look at the distribution of classes in the training, validation and test set. Is the distribution the same? Are there more examples of some classes than others?"
   ]
  },
  {
   "cell_type": "code",
   "execution_count": 4,
   "metadata": {
    "collapsed": false
   },
   "outputs": [
    {
     "data": {
      "image/png": "[encoded data removed]",
      "text/plain": [
       "<matplotlib.figure.Figure at 0x7f4ebd5dbf98>"
      ]
     },
     "metadata": {},
     "output_type": "display_data"
    }
   ],
   "source": [
    "### Data exploration visualization code goes here.\n",
    "### Feel free to use as many code cells as needed.\n",
    "import matplotlib.pyplot as plt\n",
    "from scipy import ndimage\n",
    "# Visualizations will be shown in the notebook.\n",
    "%matplotlib inline\n",
    "n, bins, patches = plt.hist(y_train, 100, normed=1, facecolor='g', alpha=0.75)\n",
    "#plt.show()\n",
    "plt.savefig('./visu.jpg')\n"
   ]
  },
  {
   "cell_type": "markdown",
   "metadata": {},
   "source": [
    "----\n",
    "\n",
    "## Step 2: Design and Test a Model Architecture\n",
    "\n",
    "Design and implement a deep learning model that learns to recognize traffic signs. Train and test your model on the [German Traffic Sign Dataset](http://benchmark.ini.rub.de/?section=gtsrb&subsection=dataset).\n",
    "\n",
    "The LeNet-5 implementation shown in the [classroom](https://classroom.udacity.com/nanodegrees/nd013/parts/fbf77062-5703-404e-b60c-95b78b2f3f9e/modules/6df7ae49-c61c-4bb2-a23e-6527e69209ec/lessons/601ae704-1035-4287-8b11-e2c2716217ad/concepts/d4aca031-508f-4e0b-b493-e7b706120f81) at the end of the CNN lesson is a solid starting point. You'll have to change the number of classes and possibly the preprocessing, but aside from that it's plug and play! \n",
    "\n",
    "With the LeNet-5 solution from the lecture, you should expect a validation set accuracy of about 0.89. To meet specifications, the validation set accuracy will need to be at least 0.93. It is possible to get an even higher accuracy, but 0.93 is the minimum for a successful project submission. \n",
    "\n",
    "There are various aspects to consider when thinking about this problem:\n",
    "\n",
    "- Neural network architecture (is the network over or underfitting?)\n",
    "- Play around preprocessing techniques (normalization, rgb to grayscale, etc)\n",
    "- Number of examples per label (some have more than others).\n",
    "- Generate fake data.\n",
    "\n",
    "Here is an example of a [published baseline model on this problem](http://yann.lecun.com/exdb/publis/pdf/sermanet-ijcnn-11.pdf). It's not required to be familiar with the approach used in the paper but, it's good practice to try to read papers like these."
   ]
  },
  {
   "cell_type": "markdown",
   "metadata": {},
   "source": [
    "### Pre-process the Data Set (normalization, grayscale, etc.)"
   ]
  },
  {
   "cell_type": "markdown",
   "metadata": {},
   "source": [
    "Minimally, the image data should be normalized so that the data has mean zero and equal variance. For image data, `(pixel - 128)/ 128` is a quick way to approximately normalize the data and can be used in this project. \n",
    "\n",
    "Other pre-processing steps are optional. You can try different techniques to see if it improves performance. \n",
    "\n",
    "Use the code cell (or multiple code cells, if necessary) to implement the first step of your project."
   ]
  },
  {
   "cell_type": "code",
   "execution_count": 5,
   "metadata": {
    "collapsed": false
   },
   "outputs": [
    {
     "name": "stdout",
     "output_type": "stream",
     "text": [
      "Normalization done\n"
     ]
    }
   ],
   "source": [
    "### Preprocess the data here. It is required to normalize the data. Other preprocessing steps could include \n",
    "### converting to grayscale, etc.\n",
    "### Feel free to use as many code cells as needed.\n",
    "\n",
    "#Normalize train test and valid dataset\n",
    "NORM = 255\n",
    "X_train = (X_train-NORM/2)/NORM\n",
    "X_valid = (X_valid-NORM/2)/NORM\n",
    "X_test = (X_test-NORM/2)/NORM\n",
    "\n",
    "print(\"Normalization done\")\n"
   ]
  },
  {
   "cell_type": "markdown",
   "metadata": {},
   "source": [
    "### Model Architecture"
   ]
  },
  {
   "cell_type": "code",
   "execution_count": 6,
   "metadata": {
    "collapsed": false
   },
   "outputs": [
    {
     "name": "stdout",
     "output_type": "stream",
     "text": [
      "Architecture defined\n"
     ]
    }
   ],
   "source": [
    "### Define your architecture here.\n",
    "### Feel free to use as many code cells as needed.\n",
    "import tensorflow as tf\n",
    "\n",
    "def LeNet(x):\n",
    "    # TODO: Define the LeNet architecture.\n",
    "    mu = 0\n",
    "    sigma = 0.1\n",
    "    \n",
    "    F_w = tf.Variable(tf.truncated_normal((5,5,1,6), mean = mu, stddev = sigma))\n",
    "    F_b = tf.Variable(tf.zeros(6))\n",
    "    hidden_layer_1 = tf.nn.conv2d(x, F_w , [1,1,1,1], 'VALID') + F_b  #OUTPUT (28,28,6)\n",
    "    hidden_layer_1 = tf.nn.relu(hidden_layer_1)\n",
    "    hidden_layer_1 = tf.nn.max_pool(hidden_layer_1, [1,2,2,1],[1,2,2,1], 'VALID') #OUTPUT (14,14,6)\n",
    "    \n",
    "   \n",
    "    S_w = tf.Variable(tf.truncated_normal((5,5,6,16), mean = mu, stddev = sigma))\n",
    "    S_b = tf.Variable(tf.zeros(16))\n",
    "    hidden_layer_2 = tf.nn.conv2d(hidden_layer_1, S_w ,[1,1,1,1],'VALID') + S_b #OUTPUT (10,10,16)\n",
    "    hidden_layer_2 = tf.nn.relu(hidden_layer_2)\n",
    "    hidden_layer_2 = tf.nn.max_pool(hidden_layer_2, [1,2,2,1],[1,2,2,1], 'VALID') #OUTPUT (5,5,16)\n",
    "    \n",
    "    hidden_layer_2 = tf.contrib.layers.flatten(hidden_layer_2) #OUTPUT (400)\n",
    "    \n",
    "    W_1 = tf.Variable(tf.truncated_normal((5*5*16 , 120), mean = mu, stddev = sigma))\n",
    "    b_1 = tf.Variable(tf.zeros(120))\n",
    "    hidden_layer_3 = tf.add(tf.matmul(hidden_layer_2, W_1), b_1) #OUTPUT (120)\n",
    "    hidden_layer_3 = tf.nn.relu(hidden_layer_3)\n",
    "    \n",
    "    hidden_layer_3 = tf.nn.dropout(hidden_layer_3, keep_prob = keep_probability)\n",
    "    \n",
    "    W_2 = tf.Variable(tf.truncated_normal((120 , 84), mean = mu, stddev = sigma))\n",
    "    b_2 = tf.Variable(tf.zeros(84))\n",
    "    hidden_layer_4 = tf.add(tf.matmul(hidden_layer_3, W_2), b_2) #OUTPUT (84)\n",
    "    hidden_layer_4 = tf.nn.relu(hidden_layer_4)\n",
    "    \n",
    "    hidden_layer_4 = tf.nn.dropout(hidden_layer_4, keep_prob = keep_probability)\n",
    "    \n",
    "    W_3 = tf.Variable(tf.truncated_normal((84 , 43), mean = mu, stddev = sigma))\n",
    "    b_3 = tf.Variable(tf.zeros(43))\n",
    "    hidden_layer_5 = tf.add(tf.matmul(hidden_layer_4, W_3), b_3) #OUTPUT (43)\n",
    "    \n",
    "    #hidden_layer_5 = tf.nn.softmax(hidden_layer_5)\n",
    "    # Return the result of the last fully connected layer.\n",
    "    return hidden_layer_5\n",
    "\n",
    "# MNIST consists of 32x32x1, grayscale images\n",
    "x = tf.placeholder(tf.float32, (None, 32,32,1))\n",
    "# Classify over 43 Traffic signs\n",
    "y = tf.placeholder(tf.int32, (None))\n",
    "keep_probability = tf.placeholder(tf.float32)\n",
    "\n",
    "one_hot_y = tf.one_hot(y, n_classes)\n",
    "\n",
    "fc2 = LeNet(x)\n",
    "prob_class = tf.nn.softmax(fc2)\n",
    "rate = 0.0009\n",
    "loss_op = tf.reduce_mean(tf.nn.softmax_cross_entropy_with_logits(logits= fc2, labels = one_hot_y))\n",
    "opt = tf.train.AdamOptimizer(learning_rate = rate)\n",
    "training_operation = opt.minimize(loss_op)\n",
    "correct_prediction = tf.equal(tf.argmax(fc2, 1), tf.argmax(one_hot_y, 1))\n",
    "#predicted class  top #5\n",
    "top_values, top_indices = tf.nn.top_k(prob_class,5)\n",
    "accuracy_operation = tf.reduce_mean(tf.cast(correct_prediction, tf.float32))\n",
    "\n",
    "print(\"Architecture defined\")\n"
   ]
  },
  {
   "cell_type": "markdown",
   "metadata": {},
   "source": [
    "### Train, Validate and Test the Model"
   ]
  },
  {
   "cell_type": "markdown",
   "metadata": {},
   "source": [
    "A validation set can be used to assess how well the model is performing. A low accuracy on the training and validation\n",
    "sets imply underfitting. A high accuracy on the training set but low accuracy on the validation set implies overfitting."
   ]
  },
  {
   "cell_type": "code",
   "execution_count": 7,
   "metadata": {
    "collapsed": false
   },
   "outputs": [
    {
     "name": "stdout",
     "output_type": "stream",
     "text": [
      "num_example  34799\n",
      "Training...\n",
      "\n",
      "eval_num_example  34799\n",
      "eval_num_example  4410\n",
      "EPOCH 1 ...\n",
      "Training Accuracy = 0.475\n",
      "Validation Accuracy = 0.434\n",
      "Validation loss = 2.126\n",
      "\n",
      "eval_num_example  34799\n",
      "eval_num_example  4410\n",
      "EPOCH 2 ...\n",
      "Training Accuracy = 0.729\n",
      "Validation Accuracy = 0.685\n",
      "Validation loss = 1.109\n",
      "\n",
      "eval_num_example  34799\n",
      "eval_num_example  4410\n",
      "EPOCH 3 ...\n",
      "Training Accuracy = 0.850\n",
      "Validation Accuracy = 0.808\n",
      "Validation loss = 0.715\n",
      "\n",
      "eval_num_example  34799\n",
      "eval_num_example  4410\n",
      "EPOCH 4 ...\n",
      "Training Accuracy = 0.888\n",
      "Validation Accuracy = 0.825\n",
      "Validation loss = 0.558\n",
      "\n",
      "eval_num_example  34799\n",
      "eval_num_example  4410\n",
      "EPOCH 5 ...\n",
      "Training Accuracy = 0.907\n",
      "Validation Accuracy = 0.853\n",
      "Validation loss = 0.497\n",
      "\n",
      "eval_num_example  34799\n",
      "eval_num_example  4410\n",
      "EPOCH 6 ...\n",
      "Training Accuracy = 0.936\n",
      "Validation Accuracy = 0.890\n",
      "Validation loss = 0.397\n",
      "\n",
      "eval_num_example  34799\n",
      "eval_num_example  4410\n",
      "EPOCH 7 ...\n",
      "Training Accuracy = 0.949\n",
      "Validation Accuracy = 0.908\n",
      "Validation loss = 0.350\n",
      "\n",
      "eval_num_example  34799\n",
      "eval_num_example  4410\n",
      "EPOCH 8 ...\n",
      "Training Accuracy = 0.954\n",
      "Validation Accuracy = 0.913\n",
      "Validation loss = 0.318\n",
      "\n",
      "eval_num_example  34799\n",
      "eval_num_example  4410\n",
      "EPOCH 9 ...\n",
      "Training Accuracy = 0.962\n",
      "Validation Accuracy = 0.918\n",
      "Validation loss = 0.297\n",
      "\n",
      "eval_num_example  34799\n",
      "eval_num_example  4410\n",
      "EPOCH 10 ...\n",
      "Training Accuracy = 0.967\n",
      "Validation Accuracy = 0.924\n",
      "Validation loss = 0.297\n",
      "\n",
      "eval_num_example  34799\n",
      "eval_num_example  4410\n",
      "EPOCH 11 ...\n",
      "Training Accuracy = 0.971\n",
      "Validation Accuracy = 0.935\n",
      "Validation loss = 0.248\n",
      "\n",
      "eval_num_example  34799\n",
      "eval_num_example  4410\n",
      "EPOCH 12 ...\n",
      "Training Accuracy = 0.976\n",
      "Validation Accuracy = 0.942\n",
      "Validation loss = 0.233\n",
      "\n",
      "eval_num_example  34799\n",
      "eval_num_example  4410\n",
      "EPOCH 13 ...\n",
      "Training Accuracy = 0.977\n",
      "Validation Accuracy = 0.937\n",
      "Validation loss = 0.238\n",
      "\n",
      "eval_num_example  34799\n",
      "eval_num_example  4410\n",
      "EPOCH 14 ...\n",
      "Training Accuracy = 0.981\n",
      "Validation Accuracy = 0.942\n",
      "Validation loss = 0.226\n",
      "\n",
      "eval_num_example  34799\n",
      "eval_num_example  4410\n",
      "EPOCH 15 ...\n",
      "Training Accuracy = 0.983\n",
      "Validation Accuracy = 0.939\n",
      "Validation loss = 0.213\n",
      "\n",
      "eval_num_example  34799\n",
      "eval_num_example  4410\n",
      "EPOCH 16 ...\n",
      "Training Accuracy = 0.981\n",
      "Validation Accuracy = 0.935\n",
      "Validation loss = 0.232\n",
      "\n",
      "eval_num_example  34799\n",
      "eval_num_example  4410\n",
      "EPOCH 17 ...\n",
      "Training Accuracy = 0.983\n",
      "Validation Accuracy = 0.945\n",
      "Validation loss = 0.218\n",
      "\n",
      "eval_num_example  34799\n",
      "eval_num_example  4410\n",
      "EPOCH 18 ...\n",
      "Training Accuracy = 0.987\n",
      "Validation Accuracy = 0.950\n",
      "Validation loss = 0.198\n",
      "\n",
      "eval_num_example  34799\n",
      "eval_num_example  4410\n",
      "EPOCH 19 ...\n",
      "Training Accuracy = 0.989\n",
      "Validation Accuracy = 0.954\n",
      "Validation loss = 0.190\n",
      "\n",
      "eval_num_example  34799\n",
      "eval_num_example  4410\n",
      "EPOCH 20 ...\n",
      "Training Accuracy = 0.986\n",
      "Validation Accuracy = 0.948\n",
      "Validation loss = 0.210\n",
      "\n",
      "eval_num_example  34799\n",
      "eval_num_example  4410\n",
      "EPOCH 21 ...\n",
      "Training Accuracy = 0.989\n",
      "Validation Accuracy = 0.952\n",
      "Validation loss = 0.176\n",
      "\n",
      "eval_num_example  34799\n",
      "eval_num_example  4410\n",
      "EPOCH 22 ...\n",
      "Training Accuracy = 0.988\n",
      "Validation Accuracy = 0.943\n",
      "Validation loss = 0.216\n",
      "\n",
      "eval_num_example  34799\n",
      "eval_num_example  4410\n",
      "EPOCH 23 ...\n",
      "Training Accuracy = 0.990\n",
      "Validation Accuracy = 0.949\n",
      "Validation loss = 0.185\n",
      "\n",
      "eval_num_example  34799\n",
      "eval_num_example  4410\n",
      "EPOCH 24 ...\n",
      "Training Accuracy = 0.992\n",
      "Validation Accuracy = 0.950\n",
      "Validation loss = 0.197\n",
      "\n",
      "eval_num_example  34799\n",
      "eval_num_example  4410\n",
      "EPOCH 25 ...\n",
      "Training Accuracy = 0.992\n",
      "Validation Accuracy = 0.960\n",
      "Validation loss = 0.172\n",
      "\n",
      "eval_num_example  34799\n",
      "eval_num_example  4410\n",
      "EPOCH 26 ...\n",
      "Training Accuracy = 0.992\n",
      "Validation Accuracy = 0.948\n",
      "Validation loss = 0.185\n",
      "\n",
      "eval_num_example  34799\n",
      "eval_num_example  4410\n",
      "EPOCH 27 ...\n",
      "Training Accuracy = 0.993\n",
      "Validation Accuracy = 0.956\n",
      "Validation loss = 0.178\n",
      "\n",
      "eval_num_example  34799\n",
      "eval_num_example  4410\n",
      "EPOCH 28 ...\n",
      "Training Accuracy = 0.993\n",
      "Validation Accuracy = 0.950\n",
      "Validation loss = 0.193\n",
      "\n",
      "eval_num_example  34799\n",
      "eval_num_example  4410\n",
      "EPOCH 29 ...\n",
      "Training Accuracy = 0.994\n",
      "Validation Accuracy = 0.955\n",
      "Validation loss = 0.170\n",
      "\n",
      "eval_num_example  34799\n",
      "eval_num_example  4410\n",
      "EPOCH 30 ...\n",
      "Training Accuracy = 0.994\n",
      "Validation Accuracy = 0.950\n",
      "Validation loss = 0.193\n",
      "\n",
      "eval_num_example  34799\n",
      "eval_num_example  4410\n",
      "EPOCH 31 ...\n",
      "Training Accuracy = 0.995\n",
      "Validation Accuracy = 0.950\n",
      "Validation loss = 0.199\n",
      "\n",
      "eval_num_example  34799\n",
      "eval_num_example  4410\n",
      "EPOCH 32 ...\n",
      "Training Accuracy = 0.994\n",
      "Validation Accuracy = 0.948\n",
      "Validation loss = 0.199\n",
      "\n",
      "eval_num_example  34799\n",
      "eval_num_example  4410\n",
      "EPOCH 33 ...\n",
      "Training Accuracy = 0.995\n",
      "Validation Accuracy = 0.956\n",
      "Validation loss = 0.162\n",
      "\n",
      "eval_num_example  34799\n",
      "eval_num_example  4410\n",
      "EPOCH 34 ...\n",
      "Training Accuracy = 0.995\n",
      "Validation Accuracy = 0.954\n",
      "Validation loss = 0.193\n",
      "\n",
      "eval_num_example  34799\n",
      "eval_num_example  4410\n",
      "EPOCH 35 ...\n",
      "Training Accuracy = 0.995\n",
      "Validation Accuracy = 0.955\n",
      "Validation loss = 0.183\n",
      "\n",
      "Model saved\n"
     ]
    },
    {
     "data": {
      "image/png": "[encoded data removed]",
      "text/plain": [
       "<matplotlib.figure.Figure at 0x7f4e278b8c88>"
      ]
     },
     "metadata": {},
     "output_type": "display_data"
    },
    {
     "name": "stdout",
     "output_type": "stream",
     "text": [
      "loss train  [ 3.16719689  1.77084384  1.17697741  0.89849865  0.7418833   0.63518743\n",
      "  0.56132179  0.49779144  0.46367074  0.42059313  0.38298351  0.36102402\n",
      "  0.34143533  0.32195492  0.30846878  0.28964604  0.27290936  0.25872633\n",
      "  0.24843886  0.2431976   0.23388914  0.21916666  0.21869391  0.20722392\n",
      "  0.19502736  0.1937233   0.19602035  0.18804036  0.17993935  0.17400831\n",
      "  0.17141473  0.16383463  0.15790056  0.15803644  0.15780244]\n",
      "loss valid  [ 2.38837552  1.35411322  0.96990275  0.89013499  0.65306526  0.57239127\n",
      "  0.47853562  0.40478444  0.3759411   0.3239646   0.45048457  0.36004475\n",
      "  0.38879254  0.33804211  0.29247209  0.22462481  0.21979766  0.26978707\n",
      "  0.16117573  0.21256453  0.25506127  0.14338176  0.17902124  0.33282608\n",
      "  0.12535933  0.18479621  0.27275252  0.07960254  0.15225069  0.15680015\n",
      "  0.25764206  0.35630044  0.1359013   0.1966787   0.04958234]\n",
      "eval_num_example  12630\n",
      "Test Accuracy = 0.933\n",
      "Test loss = 0.398\n"
     ]
    },
    {
     "data": {
      "text/plain": [
       "<matplotlib.figure.Figure at 0x7f4e26a282b0>"
      ]
     },
     "metadata": {},
     "output_type": "display_data"
    }
   ],
   "source": [
    "### Train your model here.\n",
    "### Calculate and report the accuracy on the training and validation set.\n",
    "### Once a final model architecture is selected, \n",
    "### the accuracy on the test set should be calculated and reported as well.\n",
    "### Feel free to use as many code cells as needed.\n",
    "import matplotlib.pyplot as plt\n",
    "%matplotlib inline\n",
    "from sklearn.utils import shuffle\n",
    "EPOCHS = 35\n",
    "BATCH_SIZE = 128\n",
    "saver = tf.train.Saver()\n",
    "\n",
    "loss_train = []\n",
    "loss_valid = []\n",
    "#loss_train2 = []\n",
    "ax = np.arange(EPOCHS)\n",
    "def evaluate(X_data, y_data):\n",
    "    num_examples = len(X_data)\n",
    "    print(\"eval_num_example \" , num_examples)\n",
    "    total_accuracy = 0\n",
    "    total_loss = 0\n",
    "    sess = tf.get_default_session()\n",
    "    for offset in range(0, num_examples, BATCH_SIZE):\n",
    "        batch_x, batch_y = X_data[offset:offset+BATCH_SIZE], y_data[offset:offset+BATCH_SIZE]\n",
    "        loss,accuracy,top_values_n,top_indices_n = sess.run([loss_op,accuracy_operation,top_values,top_indices], feed_dict={x: batch_x, y: batch_y, keep_probability : 1})\n",
    "        total_accuracy += (accuracy * len(batch_x))\n",
    "        total_loss += (loss * len(batch_x))\n",
    "    return total_loss / num_examples, total_accuracy / num_examples\n",
    "\n",
    "with tf.Session() as sess:\n",
    "    sess.run(tf.global_variables_initializer())\n",
    "    num_examples = len(X_train)\n",
    "    print(\"num_example \" , num_examples)\n",
    "    print(\"Training...\")\n",
    "    print()\n",
    "    \n",
    "    for i in range(EPOCHS):\n",
    "        total_loss_train = 0\n",
    "        X_train, y_train = shuffle(X_train, y_train)\n",
    "        for offset in range(0, num_examples, BATCH_SIZE):\n",
    "            end = offset + BATCH_SIZE\n",
    "            batch_x, batch_y = X_train[offset:end], y_train[offset:end]\n",
    "            loss_tr, train_op = sess.run([loss_op,training_operation], feed_dict={x: batch_x, y: batch_y, keep_probability : 0.5})\n",
    "            total_loss_train += (loss_tr * len(batch_x))\n",
    "            \n",
    "        loss_train = np.append(loss_train, total_loss_train/num_examples)\n",
    "        \n",
    "        loss_tr2, accur_train2 = evaluate(X_train, y_train)\n",
    "        #loss_train2 = np.append(loss_train2, loss_tr2)\n",
    "        \n",
    "        validation_loss,validation_accuracy = evaluate(X_valid, y_valid)\n",
    "        loss_valid = np.append(loss_valid, loss_tr)\n",
    "        print(\"EPOCH {} ...\".format(i+1))\n",
    "        print(\"Training Accuracy = {:.3f}\".format(accur_train2))\n",
    "        print(\"Validation Accuracy = {:.3f}\".format(validation_accuracy))        \n",
    "        print(\"Validation loss = {:.3f}\".format(validation_loss))\n",
    "        print()\n",
    "        \n",
    "    saver.save(sess, './lenet')\n",
    "    print(\"Model saved\")\n",
    "    plt.plot(ax,loss_train,'r--',ax,loss_valid,'b--') #, ax, loss_train2,'g--' )\n",
    "    plt.show()\n",
    "    plt.savefig('./loss_1.jpg')\n",
    "    print(\"loss train \", loss_train)\n",
    "    #print(\"loss_train_2 \", loss_train2)\n",
    "    print(\"loss valid \", loss_valid)\n",
    "    \n",
    "    loss_test, accur_test = evaluate(X_test, y_test)\n",
    "    print(\"Test Accuracy = {:.3f}\".format(accur_test))\n",
    "    print(\"Test loss = {:.3f}\".format(loss_test))\n",
    "    \n",
    "    \n",
    "    \n",
    "    \n",
    "#EPOCH 35 GRAY WITH-Normalization (-0.5-0.5) WITH-dropout in FC hidden_layer_3 and hidden_layer_4 with keep_prob: 0.5\n"
   ]
  },
  {
   "cell_type": "markdown",
   "metadata": {},
   "source": [
    "---\n",
    "\n",
    "## Step 3: Test a Model on New Images\n",
    "\n",
    "To give yourself more insight into how your model is working, download at least five pictures of German traffic signs from the web and use your model to predict the traffic sign type.\n",
    "\n",
    "You may find `signnames.csv` useful as it contains mappings from the class id (integer) to the actual sign name."
   ]
  },
  {
   "cell_type": "markdown",
   "metadata": {},
   "source": [
    "### Load and Output the Images"
   ]
  },
  {
   "cell_type": "code",
   "execution_count": 8,
   "metadata": {
    "collapsed": false
   },
   "outputs": [
    {
     "data": {
      "image/png": "[encoded data removed]",
      "text/plain": [
       "<matplotlib.figure.Figure at 0x7f4e269ef780>"
      ]
     },
     "metadata": {},
     "output_type": "display_data"
    },
    {
     "name": "stdout",
     "output_type": "stream",
     "text": [
      "(32, 32, 3)\n",
      "(32, 32, 3)\n",
      "(32, 32, 3)\n",
      "(32, 32, 3)\n",
      "(32, 32, 3)\n",
      "(5, 32, 32, 3)\n",
      "(5, 32, 32)\n",
      "(5, 32, 32, 1)\n"
     ]
    }
   ],
   "source": [
    "### Load the images and plot them here.\n",
    "### Feel free to use as many code cells as needed.\n",
    "import matplotlib.pyplot as plt\n",
    "import matplotlib.image as mpimg\n",
    "import numpy as np\n",
    "\n",
    "new_test = []\n",
    "new_test.append(mpimg.imread(\"./30km.jpg\"))\n",
    "new_test.append(mpimg.imread(\"./50km.jpg\"))\n",
    "new_test.append(mpimg.imread(\"./no_passing.jpg\"))\n",
    "new_test.append(mpimg.imread(\"./roundabout.jpg\"))\n",
    "new_test.append(mpimg.imread(\"./slipper.jpg\"))\n",
    "\n",
    "y_test_new = np.array([1,2,9,40,23])\n",
    "w=6\n",
    "h=6\n",
    "fig=plt.figure(figsize=(6, 6))\n",
    "columns = 3\n",
    "rows = 2\n",
    "for i in range(0,5):\n",
    "    img = new_test [i]\n",
    "    fig.add_subplot(rows, columns, i+1)\n",
    "    plt.imshow(img)\n",
    "plt.show()\n",
    "\n",
    "for i in range(0,5):\n",
    "    print(new_test[i].shape)\n",
    "\n",
    "#Preprocessing\n",
    "new_test = np.reshape(new_test,(-1, 32,32,3))\n",
    "print(new_test.shape)\n",
    "X_test_new = rgb2gray(new_test)\n",
    "print(X_test_new.shape)\n",
    "X_test_new = np.reshape(X_test_new,(-1, 32,32,1))\n",
    "print(X_test_new.shape)\n",
    "\n",
    "NORM = 255\n",
    "X_test_new = (X_test_new-NORM/2)/NORM\n",
    "saver = tf.train.Saver()\n"
   ]
  },
  {
   "cell_type": "markdown",
   "metadata": {},
   "source": [
    "### Predict the Sign Type for Each Image"
   ]
  },
  {
   "cell_type": "code",
   "execution_count": 18,
   "metadata": {
    "collapsed": false
   },
   "outputs": [
    {
     "name": "stdout",
     "output_type": "stream",
     "text": [
      "eval_num_example  5\n",
      "Predicted Image  1\n",
      "Predicted Image  12\n",
      "Predicted Image  9\n",
      "Predicted Image  40\n",
      "Predicted Image  23\n"
     ]
    }
   ],
   "source": [
    "### Run the predictions here and use the model to output the prediction for each image.\n",
    "### Make sure to pre-process the images with the same pre-processing pipeline used earlier.\n",
    "### Feel free to use as many code cells as needed.\n",
    "def evaluate_test(X_data, y_data, print_topk = True):\n",
    "    num_examples = len(X_data)\n",
    "    print(\"eval_num_example \" , num_examples)\n",
    "    total_accuracy = 0\n",
    "    total_loss = 0\n",
    "    sess = tf.get_default_session()\n",
    "    for offset in range(0, num_examples, BATCH_SIZE):\n",
    "        batch_x, batch_y = X_data[offset:offset+BATCH_SIZE], y_data[offset:offset+BATCH_SIZE]\n",
    "        loss,accuracy,top_values_n,top_indices_n = sess.run([loss_op,accuracy_operation,top_values,top_indices], feed_dict={x: batch_x, y: batch_y, keep_probability : 1})\n",
    "        total_accuracy += (accuracy * len(batch_x))\n",
    "        total_loss += (loss * len(batch_x))\n",
    "        if print_topk:\n",
    "            print(\"top_values \",top_values_n)\n",
    "            print(\"top_indices \",top_indices_n)\n",
    "    return total_loss / num_examples, total_accuracy / num_examples\n",
    "\n",
    "def evaluate_test_final(X_data, y_data, print_topk = True):\n",
    "    num_examples = len(X_data)\n",
    "    print(\"eval_num_example \" , num_examples)\n",
    "    total_accuracy = 0\n",
    "    total_loss = 0\n",
    "    sess = tf.get_default_session()\n",
    "    for offset in range(0, num_examples, BATCH_SIZE):\n",
    "        batch_x, batch_y = X_data[offset:offset+BATCH_SIZE], y_data[offset:offset+BATCH_SIZE]\n",
    "        loss,accuracy,top_values_n,top_indices_n = sess.run([loss_op,accuracy_operation,top_values,top_indices], feed_dict={x: batch_x, y: batch_y, keep_probability : 1})\n",
    "        total_accuracy += (accuracy * len(batch_x))\n",
    "        total_loss += (loss * len(batch_x))\n",
    "        if print_topk:\n",
    "            for img in range(top_indices_n.shape[0]):\n",
    "                print(\"Predicted Image \",top_indices_n[img][0])\n",
    "    return total_loss / num_examples, total_accuracy / num_examples\n",
    "\n",
    "with tf.Session() as sess:\n",
    "    saver.restore(sess, './lenet')\n",
    "    loss_test, accur_test = evaluate_test_final(X_test_new, y_test_new, print_topk = True)"
   ]
  },
  {
   "cell_type": "markdown",
   "metadata": {},
   "source": [
    "### Analyze Performance"
   ]
  },
  {
   "cell_type": "code",
   "execution_count": 16,
   "metadata": {
    "collapsed": false
   },
   "outputs": [
    {
     "name": "stdout",
     "output_type": "stream",
     "text": [
      "eval_num_example  5\n",
      "New Test Accuracy = 0.800\n"
     ]
    }
   ],
   "source": [
    "### Calculate the accuracy for these 5 new images. \n",
    "### For example, if the model predicted 1 out of 5 signs correctly, it's 20% accurate on these new images.\n",
    "\n",
    "\n",
    "with tf.Session() as sess:\n",
    "    saver.restore(sess, './lenet')\n",
    "    loss_test, accur_test = evaluate_test_final(X_test_new, y_test_new, print_topk = False)\n",
    "    print(\"New Test Accuracy = {:.3f}\".format(accur_test))\n",
    "    "
   ]
  },
  {
   "cell_type": "markdown",
   "metadata": {},
   "source": [
    "### Output Top 5 Softmax Probabilities For Each Image Found on the Web"
   ]
  },
  {
   "cell_type": "markdown",
   "metadata": {},
   "source": [
    "For each of the new images, print out the model's softmax probabilities to show the **certainty** of the model's predictions (limit the output to the top 5 probabilities for each image). [`tf.nn.top_k`](https://www.tensorflow.org/versions/r0.12/api_docs/python/nn.html#top_k) could prove helpful here. \n",
    "\n",
    "The example below demonstrates how tf.nn.top_k can be used to find the top k predictions for each image.\n",
    "\n",
    "`tf.nn.top_k` will return the values and indices (class ids) of the top k predictions. So if k=3, for each sign, it'll return the 3 largest probabilities (out of a possible 43) and the correspoding class ids.\n",
    "\n",
    "Take this numpy array as an example. The values in the array represent predictions. The array contains softmax probabilities for five candidate images with six possible classes. `tf.nn.top_k` is used to choose the three classes with the highest probability:\n",
    "\n",
    "```\n",
    "# (5, 6) array\n",
    "a = np.array([[ 0.24879643,  0.07032244,  0.12641572,  0.34763842,  0.07893497,\n",
    "         0.12789202],\n",
    "       [ 0.28086119,  0.27569815,  0.08594638,  0.0178669 ,  0.18063401,\n",
    "         0.15899337],\n",
    "       [ 0.26076848,  0.23664738,  0.08020603,  0.07001922,  0.1134371 ,\n",
    "         0.23892179],\n",
    "       [ 0.11943333,  0.29198961,  0.02605103,  0.26234032,  0.1351348 ,\n",
    "         0.16505091],\n",
    "       [ 0.09561176,  0.34396535,  0.0643941 ,  0.16240774,  0.24206137,\n",
    "         0.09155967]])\n",
    "```\n",
    "\n",
    "Running it through `sess.run(tf.nn.top_k(tf.constant(a), k=3))` produces:\n",
    "\n",
    "```\n",
    "TopKV2(values=array([[ 0.34763842,  0.24879643,  0.12789202],\n",
    "       [ 0.28086119,  0.27569815,  0.18063401],\n",
    "       [ 0.26076848,  0.23892179,  0.23664738],\n",
    "       [ 0.29198961,  0.26234032,  0.16505091],\n",
    "       [ 0.34396535,  0.24206137,  0.16240774]]), indices=array([[3, 0, 5],\n",
    "       [0, 1, 4],\n",
    "       [0, 5, 1],\n",
    "       [1, 3, 5],\n",
    "       [1, 4, 3]], dtype=int32))\n",
    "```\n",
    "\n",
    "Looking just at the first row we get `[ 0.34763842,  0.24879643,  0.12789202]`, you can confirm these are the 3 largest probabilities in `a`. You'll also notice `[3, 0, 5]` are the corresponding indices."
   ]
  },
  {
   "cell_type": "code",
   "execution_count": 19,
   "metadata": {
    "collapsed": false
   },
   "outputs": [
    {
     "name": "stdout",
     "output_type": "stream",
     "text": [
      "eval_num_example  5\n",
      "top_values  [[  9.86010075e-01   6.51778700e-03   4.00526682e-03   2.59155850e-03\n",
      "    8.71181604e-04]\n",
      " [  6.90560520e-01   1.38163343e-01   1.13093615e-01   2.03438979e-02\n",
      "    9.22575127e-03]\n",
      " [  1.00000000e+00   4.90475995e-15   5.75741053e-16   2.60862590e-16\n",
      "    1.97217632e-16]\n",
      " [  9.65866446e-01   1.58572625e-02   6.11247029e-03   5.74688707e-03\n",
      "    3.28721828e-03]\n",
      " [  9.99992132e-01   7.81958533e-06   4.14019681e-08   1.91717454e-14\n",
      "    1.32119617e-15]]\n",
      "top_indices  [[ 1  0  2 37 40]\n",
      " [12 40 17  9 38]\n",
      " [ 9 10 41 16 23]\n",
      " [40 41  0 16 32]\n",
      " [23 11 30 20 10]]\n"
     ]
    }
   ],
   "source": [
    "### Print out the top five softmax probabilities for the predictions on the German traffic sign images found on the web. \n",
    "### Feel free to use as many code cells as needed.\n",
    "with tf.Session() as sess:\n",
    "    saver.restore(sess, './lenet')\n",
    "    loss_test, accur_test = evaluate_test(X_test_new, y_test_new, True)\n",
    "    "
   ]
  },
  {
   "cell_type": "markdown",
   "metadata": {},
   "source": [
    "### Project Writeup\n",
    "\n",
    "Once you have completed the code implementation, document your results in a project writeup using this [template](https://github.com/udacity/CarND-Traffic-Sign-Classifier-Project/blob/master/writeup_template.md) as a guide. The writeup can be in a markdown or pdf file. "
   ]
  },
  {
   "cell_type": "markdown",
   "metadata": {},
   "source": [
    "> **Note**: Once you have completed all of the code implementations and successfully answered each question above, you may finalize your work by exporting the iPython Notebook as an HTML document. You can do this by using the menu above and navigating to  \\n\",\n",
    "    \"**File -> Download as -> HTML (.html)**. Include the finished document along with this notebook as your submission."
   ]
  },
  {
   "cell_type": "markdown",
   "metadata": {},
   "source": [
    "---\n",
    "\n",
    "## Step 4 (Optional): Visualize the Neural Network's State with Test Images\n",
    "\n",
    " This Section is not required to complete but acts as an additional excersise for understaning the output of a neural network's weights. While neural networks can be a great learning device they are often referred to as a black box. We can understand what the weights of a neural network look like better by plotting their feature maps. After successfully training your neural network you can see what it's feature maps look like by plotting the output of the network's weight layers in response to a test stimuli image. From these plotted feature maps, it's possible to see what characteristics of an image the network finds interesting. For a sign, maybe the inner network feature maps react with high activation to the sign's boundary outline or to the contrast in the sign's painted symbol.\n",
    "\n",
    " Provided for you below is the function code that allows you to get the visualization output of any tensorflow weight layer you want. The inputs to the function should be a stimuli image, one used during training or a new one you provided, and then the tensorflow variable name that represents the layer's state during the training process, for instance if you wanted to see what the [LeNet lab's](https://classroom.udacity.com/nanodegrees/nd013/parts/fbf77062-5703-404e-b60c-95b78b2f3f9e/modules/6df7ae49-c61c-4bb2-a23e-6527e69209ec/lessons/601ae704-1035-4287-8b11-e2c2716217ad/concepts/d4aca031-508f-4e0b-b493-e7b706120f81) feature maps looked like for it's second convolutional layer you could enter conv2 as the tf_activation variable.\n",
    "\n",
    "For an example of what feature map outputs look like, check out NVIDIA's results in their paper [End-to-End Deep Learning for Self-Driving Cars](https://devblogs.nvidia.com/parallelforall/deep-learning-self-driving-cars/) in the section Visualization of internal CNN State. NVIDIA was able to show that their network's inner weights had high activations to road boundary lines by comparing feature maps from an image with a clear path to one without. Try experimenting with a similar test to show that your trained network's weights are looking for interesting features, whether it's looking at differences in feature maps from images with or without a sign, or even what feature maps look like in a trained network vs a completely untrained one on the same sign image.\n",
    "\n",
    "<figure>\n",
    " <img src=\"visualize_cnn.png\" width=\"380\" alt=\"Combined Image\" />\n",
    " <figcaption>\n",
    " <p></p> \n",
    " <p style=\"text-align: center;\"> Your output should look something like this (above)</p> \n",
    " </figcaption>\n",
    "</figure>\n",
    " <p></p> \n"
   ]
  },
  {
   "cell_type": "code",
   "execution_count": null,
   "metadata": {
    "collapsed": true
   },
   "outputs": [],
   "source": [
    "### Visualize your network's feature maps here.\n",
    "### Feel free to use as many code cells as needed.\n",
    "\n",
    "# image_input: the test image being fed into the network to produce the feature maps\n",
    "# tf_activation: should be a tf variable name used during your training procedure that represents the calculated state of a specific weight layer\n",
    "# activation_min/max: can be used to view the activation contrast in more detail, by default matplot sets min and max to the actual min and max values of the output\n",
    "# plt_num: used to plot out multiple different weight feature map sets on the same block, just extend the plt number for each new feature map entry\n",
    "\n",
    "def outputFeatureMap(image_input, tf_activation, activation_min=-1, activation_max=-1 ,plt_num=1):\n",
    "    # Here make sure to preprocess your image_input in a way your network expects\n",
    "    # with size, normalization, ect if needed\n",
    "    # image_input =\n",
    "    # Note: x should be the same name as your network's tensorflow data placeholder variable\n",
    "    # If you get an error tf_activation is not defined it may be having trouble accessing the variable from inside a function\n",
    "    activation = tf_activation.eval(session=sess,feed_dict={x : image_input})\n",
    "    featuremaps = activation.shape[3]\n",
    "    plt.figure(plt_num, figsize=(15,15))\n",
    "    for featuremap in range(featuremaps):\n",
    "        plt.subplot(6,8, featuremap+1) # sets the number of feature maps to show on each row and column\n",
    "        plt.title('FeatureMap ' + str(featuremap)) # displays the feature map number\n",
    "        if activation_min != -1 & activation_max != -1:\n",
    "            plt.imshow(activation[0,:,:, featuremap], interpolation=\"nearest\", vmin =activation_min, vmax=activation_max, cmap=\"gray\")\n",
    "        elif activation_max != -1:\n",
    "            plt.imshow(activation[0,:,:, featuremap], interpolation=\"nearest\", vmax=activation_max, cmap=\"gray\")\n",
    "        elif activation_min !=-1:\n",
    "            plt.imshow(activation[0,:,:, featuremap], interpolation=\"nearest\", vmin=activation_min, cmap=\"gray\")\n",
    "        else:\n",
    "            plt.imshow(activation[0,:,:, featuremap], interpolation=\"nearest\", cmap=\"gray\")"
   ]
  }
 ],
 "metadata": {
  "anaconda-cloud": {},
  "kernelspec": {
   "display_name": "Python [conda env:carnd-term1]",
   "language": "python",
   "name": "conda-env-carnd-term1-py"
  },
  "language_info": {
   "codemirror_mode": {
    "name": "ipython",
    "version": 3
   },
   "file_extension": ".py",
   "mimetype": "text/x-python",
   "name": "python",
   "nbconvert_exporter": "python",
   "pygments_lexer": "ipython3",
   "version": "3.5.2"
  }
 },
 "nbformat": 4,
 "nbformat_minor": 1
}
